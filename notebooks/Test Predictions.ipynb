{
 "cells": [
  {
   "cell_type": "markdown",
   "metadata": {},
   "source": [
    "Now the model has been trained, and what's next is the post-hoc analysis of performance. In particular, does it at least predict % changes of the correct sign? If it can do that correctly, this model is bad, but at least useful."
   ]
  },
  {
   "cell_type": "markdown",
   "metadata": {},
   "source": [
    "Load model\n",
    "Load test data\n",
    "\n",
    "FP, see what predictions are\n",
    "\n",
    "Compare"
   ]
  },
  {
   "cell_type": "code",
   "execution_count": 1,
   "metadata": {},
   "outputs": [],
   "source": [
    "import sys\n",
    "sys.path.append('../src')"
   ]
  },
  {
   "cell_type": "code",
   "execution_count": 2,
   "metadata": {},
   "outputs": [],
   "source": [
    "from train import CryptoTrainer\n",
    "import torch\n",
    "import matplotlib.pyplot as plt\n",
    "%matplotlib inline"
   ]
  },
  {
   "cell_type": "code",
   "execution_count": 3,
   "metadata": {},
   "outputs": [],
   "source": [
    "trader = CryptoTrainer.load_from_checkpoint(\"/Users/noahkasmanoff/Desktop/F21/jetcoin/src/jetcoin-src/13kfa275/checkpoints/epoch=0-step=47.ckpt\")\n",
    "                                            \n",
    "                                            "
   ]
  },
  {
   "cell_type": "code",
   "execution_count": null,
   "metadata": {},
   "outputs": [],
   "source": []
  },
  {
   "cell_type": "code",
   "execution_count": 4,
   "metadata": {},
   "outputs": [],
   "source": [
    "from dataloaders import create_dataloaders"
   ]
  },
  {
   "cell_type": "code",
   "execution_count": 5,
   "metadata": {},
   "outputs": [],
   "source": [
    "# TODO -save all these args to model, add to trader. for loading loaders\n",
    "train_loader, valid_loader, test_loader, today_loader, approx_resolution = create_dataloaders(crypto=trader.hparams.args.crypto,\n",
    "                                                                            values=trader.hparams.args.values,\n",
    "                                                                            batch_size=1,\n",
    "                                                                            labels_to_load=trader.hparams.args.labels_to_load.split(','),\n",
    "                                                                        prior_years = trader.hparams.args.prior_years,\n",
    "                                                                            prior_days = trader.hparams.args.prior_days,\n",
    "                                                                            window = trader.hparams.args.window_size,\n",
    "                                                                                buy_thresh=trader.hparams.args.buy_thresh)"
   ]
  },
  {
   "cell_type": "code",
   "execution_count": 6,
   "metadata": {},
   "outputs": [],
   "source": [
    "y = torch.randn(1)"
   ]
  },
  {
   "cell_type": "code",
   "execution_count": 7,
   "metadata": {},
   "outputs": [],
   "source": [
    "if torch.cuda.is_available():\n",
    "    trader.cuda(); # if available!\n",
    "\n",
    "trader.eval();\n",
    "#with torch.no_grad():\n",
    "for price, price_norm, date, pct_change in today_loader:\n",
    "    if torch.cuda.is_available():\n",
    "        price_norm = price_norm.cuda()# if available!\n",
    "\n",
    "#        print(trader.forward(price).item(),'||', pct_change.item())\n",
    "    y_pred = trader.forward(price_norm)#.item()\n"
   ]
  },
  {
   "cell_type": "code",
   "execution_count": 8,
   "metadata": {},
   "outputs": [],
   "source": [
    "from torch.nn.functional import mse_loss"
   ]
  },
  {
   "cell_type": "code",
   "execution_count": null,
   "metadata": {},
   "outputs": [],
   "source": [
    "torch.randn(1)"
   ]
  },
  {
   "cell_type": "code",
   "execution_count": 9,
   "metadata": {},
   "outputs": [],
   "source": [
    "loss = mse_loss(y_pred,y) "
   ]
  },
  {
   "cell_type": "code",
   "execution_count": 10,
   "metadata": {},
   "outputs": [
    {
     "data": {
      "text/plain": [
       "(tensor([[0.2046]], grad_fn=<AddmmBackward>),\n",
       " tensor(0.3730, grad_fn=<MseLossBackward>))"
      ]
     },
     "execution_count": 10,
     "metadata": {},
     "output_type": "execute_result"
    }
   ],
   "source": [
    "y_pred, loss"
   ]
  },
  {
   "cell_type": "code",
   "execution_count": null,
   "metadata": {},
   "outputs": [],
   "source": [
    "y_pred, loss"
   ]
  },
  {
   "cell_type": "code",
   "execution_count": 11,
   "metadata": {},
   "outputs": [],
   "source": [
    "from torch.optim import SGD"
   ]
  },
  {
   "cell_type": "code",
   "execution_count": 12,
   "metadata": {},
   "outputs": [],
   "source": [
    "optimizer =  SGD(trader.parameters(),lr=trader.learning_rate)"
   ]
  },
  {
   "cell_type": "code",
   "execution_count": 22,
   "metadata": {},
   "outputs": [
    {
     "ename": "SyntaxError",
     "evalue": "invalid syntax (<ipython-input-22-ea940c22c446>, line 2)",
     "output_type": "error",
     "traceback": [
      "\u001b[0;36m  File \u001b[0;32m\"<ipython-input-22-ea940c22c446>\"\u001b[0;36m, line \u001b[0;32m2\u001b[0m\n\u001b[0;31m    optimizer.zero_grad()\u001b[0m\n\u001b[0m    ^\u001b[0m\n\u001b[0;31mSyntaxError\u001b[0m\u001b[0;31m:\u001b[0m invalid syntax\n"
     ]
    }
   ],
   "source": [
    "optimizer = torch.optim.SGD(trader.parameters(), lr=trader.learning_rate, weight_decay=trader.weight_decay\n",
    "optimizer.zero_grad()\n",
    "loss = mse_loss(y_pred,torch.randn(1)) \n",
    "loss.backward()\n",
    "optimizer.step()"
   ]
  },
  {
   "cell_type": "code",
   "execution_count": 19,
   "metadata": {},
   "outputs": [],
   "source": [
    "# repeat, did the model's parameters actually update? \n",
    "if torch.cuda.is_available():\n",
    "    trader.cuda(); # if available!\n",
    "\n",
    "trader.eval();\n",
    "#with torch.no_grad():\n",
    "for price, price_norm, date, pct_change in today_loader:\n",
    "    if torch.cuda.is_available():\n",
    "        price_norm = price_norm.cuda()# if available!\n",
    "\n",
    "#        print(trader.forward(price).item(),'||', pct_change.item())\n",
    "    y_pred = trader.forward(price_norm)#.item()\n"
   ]
  },
  {
   "cell_type": "code",
   "execution_count": 20,
   "metadata": {},
   "outputs": [],
   "source": [
    "loss = mse_loss(y_pred,y) "
   ]
  },
  {
   "cell_type": "code",
   "execution_count": 17,
   "metadata": {},
   "outputs": [
    {
     "data": {
      "text/plain": [
       "(tensor([0.8154]),\n",
       " tensor([[-1.4949]], grad_fn=<AddmmBackward>),\n",
       " tensor(5.3374, grad_fn=<MseLossBackward>))"
      ]
     },
     "execution_count": 17,
     "metadata": {},
     "output_type": "execute_result"
    }
   ],
   "source": [
    "y ,y_pred, loss"
   ]
  },
  {
   "cell_type": "code",
   "execution_count": 21,
   "metadata": {},
   "outputs": [
    {
     "data": {
      "text/plain": [
       "(tensor([0.8154]),\n",
       " tensor([[0.1556]], grad_fn=<AddmmBackward>),\n",
       " tensor(0.4352, grad_fn=<MseLossBackward>))"
      ]
     },
     "execution_count": 21,
     "metadata": {},
     "output_type": "execute_result"
    }
   ],
   "source": [
    "y ,y_pred, loss"
   ]
  },
  {
   "cell_type": "code",
   "execution_count": null,
   "metadata": {},
   "outputs": [],
   "source": [
    "y_pred = []\n",
    "y_true = []\n",
    "trader.eval();\n",
    "\n",
    "with torch.no_grad():\n",
    "    for price, pct_change in today_loader:\n",
    "\n",
    "#        print(trader.forward(price).item(),'||', pct_change.item())\n",
    "        y_pred.append(trader.forward(price).item())\n",
    "        y_true.append(pct_change.item())"
   ]
  },
  {
   "cell_type": "code",
   "execution_count": null,
   "metadata": {},
   "outputs": [],
   "source": [
    "plt.title(\"Percent Change in Price on Following Day\")\n",
    "plt.plot(y_pred,label='predicted')\n",
    "plt.plot(y_true,label='true')\n",
    "plt.axhline()"
   ]
  },
  {
   "cell_type": "markdown",
   "metadata": {},
   "source": [
    "Graph notes... "
   ]
  },
  {
   "cell_type": "markdown",
   "metadata": {},
   "source": [
    "What about today? "
   ]
  },
  {
   "cell_type": "code",
   "execution_count": null,
   "metadata": {},
   "outputs": [],
   "source": [
    "sys.path.append('../dat/')\n",
    "from collect_and_prepare_data import prepare_data"
   ]
  },
  {
   "cell_type": "code",
   "execution_count": null,
   "metadata": {},
   "outputs": [],
   "source": [
    "_, _, coin_test = prepare_data(prior_years=5,crypto='bitcoin',values='usd', buy_thresh = .05, window = 28)"
   ]
  },
  {
   "cell_type": "code",
   "execution_count": null,
   "metadata": {},
   "outputs": [],
   "source": [
    "coin_test[-1]['date']"
   ]
  },
  {
   "cell_type": "code",
   "execution_count": null,
   "metadata": {},
   "outputs": [],
   "source": [
    "trader.forward(torch.Tensor(coin_test[-1]['prices']).unsqueeze(0))"
   ]
  },
  {
   "cell_type": "code",
   "execution_count": null,
   "metadata": {},
   "outputs": [],
   "source": [
    "def get_today_input():\n",
    "    \"\"\"\n",
    "    Return the input for today's price history for the predicted pct_change. \n",
    "    \"\"\"\n",
    "    \n",
    "    "
   ]
  },
  {
   "cell_type": "code",
   "execution_count": null,
   "metadata": {},
   "outputs": [],
   "source": [
    "\n",
    "    cg = CoinGeckoAPI()\n",
    "\n",
    "    today = cg.get_price(ids='bitcoin', vs_currencies='usd',include_last_updated_at=True)['bitcoin']['last_updated_at']\n",
    "    start = int(today - prior_years*31536000) # subtract prior years\n",
    "\n",
    "\n",
    "    btc_history = cg.get_coin_market_chart_range_by_id(id=crypto,vs_currency=values,include_market_cap='true',from_timestamp= start,to_timestamp=today)\n",
    "    prices = np.array(btc_history['prices'])\n",
    "    timestamps = prices[:,0]\n",
    "    price = prices[:,1]\n",
    "    dates = [datetime.fromtimestamp(timestamp // 1000) for timestamp in timestamps]\n",
    "    cg_df = pd.DataFrame()\n",
    "    cg_df['timestamp'] = timestamps\n",
    "    cg_df['date'] = dates\n",
    "    cg_df[crypto + '_price'] = price"
   ]
  },
  {
   "cell_type": "code",
   "execution_count": null,
   "metadata": {},
   "outputs": [],
   "source": [
    "from datetime import datetime\n",
    "from pycoingecko import CoinGeckoAPI\n",
    "import numpy as np\n",
    "import pandas as pd"
   ]
  },
  {
   "cell_type": "code",
   "execution_count": null,
   "metadata": {},
   "outputs": [],
   "source": [
    "cg = CoinGeckoAPI()\n",
    "\n",
    "today = cg.get_price(ids='bitcoin', vs_currencies='usd',include_last_updated_at=True)['bitcoin']['last_updated_at']\n",
    "start = int(today - 5*31536000) # subtract prior years\n",
    "crypto='bitcoin'"
   ]
  },
  {
   "cell_type": "code",
   "execution_count": null,
   "metadata": {},
   "outputs": [],
   "source": [
    "\n",
    "btc_history = cg.get_coin_market_chart_range_by_id(id='bitcoin',vs_currency='usd',include_market_cap='true',from_timestamp= start,to_timestamp=today)\n",
    "prices = np.array(btc_history['prices'])\n",
    "timestamps = prices[:,0]\n",
    "price = prices[:,1]\n",
    "dates = [datetime.fromtimestamp(timestamp // 1000) for timestamp in timestamps]\n",
    "cg_df = pd.DataFrame()\n",
    "cg_df['timestamp'] = timestamps\n",
    "cg_df['date'] = dates\n",
    "cg_df[crypto + '_price'] = price\n"
   ]
  },
  {
   "cell_type": "code",
   "execution_count": null,
   "metadata": {},
   "outputs": [],
   "source": [
    "coin_df = cg_df"
   ]
  },
  {
   "cell_type": "code",
   "execution_count": null,
   "metadata": {},
   "outputs": [],
   "source": [
    "window = 28\n",
    "coin_df['moving_avg'] = coin_df['bitcoin_price'].rolling(window=window).mean().shift(1) # for day i, computes the window rolling average for the prior i-1 to i-1-window days.\n",
    "coin_df['pct_change'] =  (coin_df['bitcoin_price'] - coin_df['moving_avg']) / coin_df['moving_avg']\n"
   ]
  },
  {
   "cell_type": "code",
   "execution_count": null,
   "metadata": {},
   "outputs": [],
   "source": [
    "coin_df.loc[coin_df['date'].astype(str).str.contains('2021-01-01')]"
   ]
  },
  {
   "cell_type": "code",
   "execution_count": null,
   "metadata": {},
   "outputs": [],
   "source": [
    "i = 3\n",
    "prices = coin_df['bitcoin_price'].values[i-window:i]"
   ]
  },
  {
   "cell_type": "code",
   "execution_count": null,
   "metadata": {},
   "outputs": [],
   "source": [
    "prices"
   ]
  },
  {
   "cell_type": "code",
   "execution_count": null,
   "metadata": {},
   "outputs": [],
   "source": [
    "coin_df"
   ]
  },
  {
   "cell_type": "code",
   "execution_count": null,
   "metadata": {},
   "outputs": [],
   "source": [
    "coin_df.loc[coin_df['pct_change'] == coin_test[-1]['pct_change']]"
   ]
  },
  {
   "cell_type": "code",
   "execution_count": null,
   "metadata": {},
   "outputs": [],
   "source": [
    "i = 364\n",
    "prices = coin_df['bitcoin_price'].values[i-window:i]"
   ]
  },
  {
   "cell_type": "code",
   "execution_count": null,
   "metadata": {},
   "outputs": [],
   "source": [
    "prices"
   ]
  },
  {
   "cell_type": "code",
   "execution_count": null,
   "metadata": {},
   "outputs": [],
   "source": [
    "pct_change = coin_df['pct_change'].values[i]"
   ]
  },
  {
   "cell_type": "code",
   "execution_count": null,
   "metadata": {},
   "outputs": [],
   "source": [
    "pct_change"
   ]
  },
  {
   "cell_type": "code",
   "execution_count": null,
   "metadata": {},
   "outputs": [],
   "source": [
    "coin_test[-1]"
   ]
  },
  {
   "cell_type": "code",
   "execution_count": null,
   "metadata": {},
   "outputs": [],
   "source": [
    "coin_df"
   ]
  },
  {
   "cell_type": "code",
   "execution_count": null,
   "metadata": {},
   "outputs": [],
   "source": [
    "coin_df['bitcoin_price'].values[coin_df.shape[0]-window:coin_df.shape[0]+1]"
   ]
  },
  {
   "cell_type": "code",
   "execution_count": null,
   "metadata": {},
   "outputs": [],
   "source": []
  },
  {
   "cell_type": "code",
   "execution_count": null,
   "metadata": {},
   "outputs": [],
   "source": []
  }
 ],
 "metadata": {
  "kernelspec": {
   "display_name": "Python 3",
   "language": "python",
   "name": "python3"
  },
  "language_info": {
   "codemirror_mode": {
    "name": "ipython",
    "version": 3
   },
   "file_extension": ".py",
   "mimetype": "text/x-python",
   "name": "python",
   "nbconvert_exporter": "python",
   "pygments_lexer": "ipython3",
   "version": "3.8.5"
  }
 },
 "nbformat": 4,
 "nbformat_minor": 4
}
