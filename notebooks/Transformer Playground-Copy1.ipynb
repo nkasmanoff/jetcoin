{
 "cells": [
  {
   "cell_type": "markdown",
   "metadata": {},
   "source": [
    "Lots to discover when using the transformer decoder model on non-text data. A running list of things to figure out include:\n",
    "\n",
    "- input non text?\n",
    "- no encoder ?\n",
    "- causal prediction of prices and/or pct_change at end of sequence?\n",
    "\n",
    "- positional encoding?"
   ]
  },
  {
   "cell_type": "code",
   "execution_count": 320,
   "metadata": {},
   "outputs": [],
   "source": [
    "\"\"\"\n",
    "Largely copied from https://github.com/tunz/transformer-pytorch/blob/master/model/transformer.py\n",
    "\n",
    "Idea is to use just the transformer decoder architecture to predict the pct_change of the coming day.\n",
    "\n",
    "Depending on model may need to re-shape the data used.\n",
    "\n",
    "Note that decoder initially used for causal modeling, and now simply predicting a property from the last element in the array,\n",
    "based on previous days.\n",
    "\"\"\"\n",
    "import math\n",
    "\n",
    "import torch\n",
    "import torch.nn as nn\n",
    "import torch.nn.functional as F\n",
    "\n",
    "def initialize_weight(x):\n",
    "    nn.init.xavier_uniform_(x.weight)\n",
    "    if x.bias is not None:\n",
    "        nn.init.constant_(x.bias, 0)\n",
    "\n",
    "\n",
    "\n",
    "class FeedForwardNetwork(nn.Module):\n",
    "    def __init__(self, hidden_size, filter_size, dropout_rate,output_size=None):\n",
    "        super(FeedForwardNetwork, self).__init__()\n",
    "\n",
    "        self.layer1 = nn.Linear(hidden_size, filter_size)\n",
    "        self.relu = nn.ReLU()\n",
    "        self.dropout = nn.Dropout(dropout_rate)\n",
    "        if output_size:\n",
    "            self.layer2 = nn.Linear(filter_size, output_size)\n",
    "        else:\n",
    "            self.layer2 = nn.Linear(filter_size, hidden_size)\n",
    "\n",
    "        initialize_weight(self.layer1)\n",
    "        initialize_weight(self.layer2)\n",
    "\n",
    "    def forward(self, x):\n",
    "        x = self.layer1(x)\n",
    "        x = self.relu(x)\n",
    "        x = self.dropout(x)\n",
    "        x = self.layer2(x)\n",
    "        return x\n",
    "\n",
    "\n",
    "class MultiHeadAttention(nn.Module):\n",
    "    def __init__(self, hidden_size, dropout_rate, head_size=2):\n",
    "        super(MultiHeadAttention, self).__init__()\n",
    "\n",
    "        self.head_size = head_size\n",
    "\n",
    "        self.att_size = att_size = hidden_size // head_size\n",
    "        self.scale = att_size ** -0.5\n",
    "\n",
    "        self.linear_q = nn.Linear(hidden_size, head_size * att_size, bias=False)\n",
    "        self.linear_k = nn.Linear(hidden_size, head_size * att_size, bias=False)\n",
    "        self.linear_v = nn.Linear(hidden_size, head_size * att_size, bias=False)\n",
    "        initialize_weight(self.linear_q)\n",
    "        initialize_weight(self.linear_k)\n",
    "        initialize_weight(self.linear_v)\n",
    "\n",
    "        self.att_dropout = nn.Dropout(dropout_rate)\n",
    "\n",
    "        self.output_layer = nn.Linear(head_size * att_size, hidden_size,\n",
    "                                      bias=False)\n",
    "        initialize_weight(self.output_layer)\n",
    "\n",
    "    def forward(self, q, k, v, mask, cache=None):\n",
    "        orig_q_size = q.size()\n",
    "\n",
    "        d_k = self.att_size\n",
    "        d_v = self.att_size\n",
    "        batch_size = q.size(0)\n",
    "\n",
    "        # head_i = Attention(Q(W^Q)_i, K(W^K)_i, V(W^V)_i)\n",
    "        q = self.linear_q(q).view(batch_size, -1, self.head_size, d_k)\n",
    "        if cache is not None and 'encdec_k' in cache:\n",
    "            k, v = cache['encdec_k'], cache['encdec_v']\n",
    "        else:\n",
    "            k = self.linear_k(k).view(batch_size, -1, self.head_size, d_k)\n",
    "            v = self.linear_v(v).view(batch_size, -1, self.head_size, d_v)\n",
    "\n",
    "            if cache is not None:\n",
    "                cache['encdec_k'], cache['encdec_v'] = k, v\n",
    "\n",
    "        q = q.transpose(1, 2)                  # [b, h, q_len, d_k]\n",
    "        v = v.transpose(1, 2)                  # [b, h, v_len, d_v]\n",
    "        k = k.transpose(1, 2).transpose(2, 3)  # [b, h, d_k, k_len]\n",
    "\n",
    "        # Scaled Dot-Product Attention.\n",
    "        # Attention(Q, K, V) = softmax((QK^T)/sqrt(d_k))V\n",
    "        q.mul_(self.scale)\n",
    "        x = torch.matmul(q, k)  # [b, h, q_len, k_len]\n",
    "        x.masked_fill_(mask.unsqueeze(1), -1e9)\n",
    "        x = torch.softmax(x, dim=3)\n",
    "        x = self.att_dropout(x)\n",
    "        x = x.matmul(v)  # [b, h, q_len, attn]\n",
    "\n",
    "        x = x.transpose(1, 2).contiguous()  # [b, q_len, h, attn]\n",
    "        x = x.view(batch_size, -1, self.head_size * d_v)\n",
    "\n",
    "        x = self.output_layer(x)\n",
    "\n",
    "        assert x.size() == orig_q_size\n",
    "        return x\n",
    "\n",
    "\n",
    "class EncoderLayer(nn.Module):\n",
    "    def __init__(self, hidden_size, filter_size, dropout_rate):\n",
    "        super(EncoderLayer, self).__init__()\n",
    "\n",
    "        self.self_attention_norm = nn.LayerNorm(hidden_size, eps=1e-6)\n",
    "        self.self_attention = MultiHeadAttention(hidden_size, dropout_rate)\n",
    "        self.self_attention_dropout = nn.Dropout(dropout_rate)\n",
    "\n",
    "        self.ffn_norm = nn.LayerNorm(hidden_size, eps=1e-6)\n",
    "        self.ffn = FeedForwardNetwork(hidden_size, filter_size, dropout_rate)\n",
    "        self.ffn_dropout = nn.Dropout(dropout_rate)\n",
    "\n",
    "    def forward(self, x, mask):  # pylint: disable=arguments-differ\n",
    "        y = self.self_attention_norm(x)\n",
    "        y = self.self_attention(y, y, y, mask)\n",
    "        y = self.self_attention_dropout(y)\n",
    "        x = x + y\n",
    "\n",
    "        y = self.ffn_norm(x)\n",
    "        y = self.ffn(y)\n",
    "        y = self.ffn_dropout(y)\n",
    "        x = x + y\n",
    "        return x\n",
    "\n",
    "\n",
    "class DecoderLayer(nn.Module):\n",
    "    def __init__(self, hidden_size, filter_size, dropout_rate):\n",
    "        super(DecoderLayer, self).__init__()\n",
    "\n",
    "        self.self_attention_norm = nn.LayerNorm(hidden_size, eps=1e-6)\n",
    "        self.self_attention = MultiHeadAttention(hidden_size, dropout_rate)\n",
    "        self.self_attention_dropout = nn.Dropout(dropout_rate)\n",
    "\n",
    "        self.enc_dec_attention_norm = nn.LayerNorm(hidden_size, eps=1e-6)\n",
    "        self.enc_dec_attention = MultiHeadAttention(hidden_size, dropout_rate)\n",
    "        self.enc_dec_attention_dropout = nn.Dropout(dropout_rate)\n",
    "\n",
    "        self.ffn_norm = nn.LayerNorm(hidden_size, eps=1e-6)\n",
    "        self.ffn = FeedForwardNetwork(hidden_size, filter_size, dropout_rate)\n",
    "        self.ffn_dropout = nn.Dropout(dropout_rate)\n",
    "\n",
    "    def forward(self, x, enc_output, self_mask, i_mask, cache):\n",
    "        y = self.self_attention_norm(x)\n",
    "        y = self.self_attention(y, y, y, self_mask)\n",
    "        y = self.self_attention_dropout(y)\n",
    "        x = x + y\n",
    "\n",
    "        if enc_output is not None:\n",
    "            y = self.enc_dec_attention_norm(x)\n",
    "            y = self.enc_dec_attention(y, enc_output, enc_output, i_mask,\n",
    "                                       cache)\n",
    "            y = self.enc_dec_attention_dropout(y)\n",
    "            x = x + y\n",
    "\n",
    "        y = self.ffn_norm(x)\n",
    "        y = self.ffn(y)\n",
    "        y = self.ffn_dropout(y)\n",
    "        x = x + y\n",
    "        return x\n",
    "\n",
    "\n",
    "class Encoder(nn.Module):\n",
    "    def __init__(self, hidden_size, filter_size, dropout_rate, n_layers):\n",
    "        super(Encoder, self).__init__()\n",
    "\n",
    "        encoders = [EncoderLayer(hidden_size, filter_size, dropout_rate)\n",
    "                    for _ in range(n_layers)]\n",
    "        self.layers = nn.ModuleList(encoders)\n",
    "\n",
    "        self.last_norm = nn.LayerNorm(hidden_size, eps=1e-6)\n",
    "\n",
    "    def forward(self, inputs, mask):\n",
    "        encoder_output = inputs\n",
    "        for enc_layer in self.layers:\n",
    "            encoder_output = enc_layer(encoder_output, mask)\n",
    "        return self.last_norm(encoder_output)\n",
    "\n",
    "\n",
    "class Decoder(nn.Module):\n",
    "    def __init__(self, hidden_size, filter_size, dropout_rate, n_layers):\n",
    "        super(Decoder, self).__init__()\n",
    "\n",
    "        decoders = [DecoderLayer(hidden_size, filter_size, dropout_rate)\n",
    "                    for _ in range(n_layers)]\n",
    "        self.layers = nn.ModuleList(decoders)\n",
    "\n",
    "        self.last_norm = nn.LayerNorm(hidden_size, eps=1e-6)\n",
    "\n",
    "    def forward(self, targets, enc_output, i_mask, t_self_mask, cache):\n",
    "        decoder_output = targets\n",
    "        for i, dec_layer in enumerate(self.layers):\n",
    "            layer_cache = None\n",
    "            if cache is not None:\n",
    "                if i not in cache:\n",
    "                    cache[i] = {}\n",
    "                layer_cache = cache[i]\n",
    "            decoder_output = dec_layer(decoder_output, enc_output,\n",
    "                                       t_self_mask, i_mask, layer_cache)\n",
    "        return self.last_norm(decoder_output)\n",
    "\n",
    "\n",
    "class Transformer(nn.Module):\n",
    "    def __init__(self, i_vocab_size, t_vocab_size, #input and target vocab size. Not needed. \n",
    "                 n_layers=6,\n",
    "                 hidden_size=512,\n",
    "                 filter_size=2048,\n",
    "                 dropout_rate=0.1,\n",
    "                 share_target_embedding=True,\n",
    "                 has_inputs=True,\n",
    "                 src_pad_idx=None,\n",
    "                 trg_pad_idx=None):\n",
    "        super(Transformer, self).__init__()\n",
    "\n",
    "        self.hidden_size = hidden_size\n",
    "        self.emb_scale = hidden_size ** 0.5\n",
    "        self.has_inputs = has_inputs\n",
    "        self.src_pad_idx = src_pad_idx\n",
    "        self.trg_pad_idx = trg_pad_idx\n",
    "\n",
    "        self.t_vocab_embedding = nn.Embedding(t_vocab_size, hidden_size)\n",
    "        nn.init.normal_(self.t_vocab_embedding.weight, mean=0,\n",
    "                        std=hidden_size**-0.5)\n",
    "        self.t_emb_dropout = nn.Dropout(dropout_rate)\n",
    "        self.decoder = Decoder(hidden_size, filter_size,\n",
    "                               dropout_rate, n_layers)\n",
    "\n",
    "        if has_inputs:\n",
    "            if not share_target_embedding:\n",
    "                self.i_vocab_embedding = nn.Embedding(i_vocab_size,\n",
    "                                                      hidden_size)\n",
    "                nn.init.normal_(self.i_vocab_embedding.weight, mean=0,\n",
    "                                std=hidden_size**-0.5)\n",
    "            else:\n",
    "                self.i_vocab_embedding = self.t_vocab_embedding\n",
    "\n",
    "            self.i_emb_dropout = nn.Dropout(dropout_rate)\n",
    "\n",
    "            self.encoder = Encoder(hidden_size, filter_size,\n",
    "                                   dropout_rate, n_layers)\n",
    "\n",
    "        # For positional encoding\n",
    "        num_timescales = self.hidden_size // 2\n",
    "        max_timescale = 10000.0\n",
    "        min_timescale = 1.0\n",
    "        log_timescale_increment = (\n",
    "            math.log(float(max_timescale) / float(min_timescale)) /\n",
    "            max(num_timescales - 1, 1))\n",
    "        inv_timescales = min_timescale * torch.exp(\n",
    "            torch.arange(num_timescales, dtype=torch.float32) *\n",
    "            -log_timescale_increment)\n",
    "        self.register_buffer('inv_timescales', inv_timescales)\n",
    "\n",
    "    def forward(self, inputs, targets):\n",
    "        enc_output, i_mask = None, None\n",
    "        if self.has_inputs:\n",
    "            i_mask = utils.create_pad_mask(inputs, self.src_pad_idx)\n",
    "            enc_output = self.encode(inputs, i_mask)\n",
    "\n",
    "        t_mask = utils.create_pad_mask(targets, self.trg_pad_idx)\n",
    "        target_size = targets.size()[1]\n",
    "        t_self_mask = utils.create_trg_self_mask(target_size,\n",
    "                                                 device=targets.device)\n",
    "        return self.decode(targets, enc_output, i_mask, t_self_mask, t_mask)\n",
    "\n",
    "    def encode(self, inputs, i_mask):\n",
    "        # Input embedding\n",
    "        input_embedded = self.i_vocab_embedding(inputs)\n",
    "        input_embedded.masked_fill_(i_mask.squeeze(1).unsqueeze(-1), 0)\n",
    "        input_embedded *= self.emb_scale\n",
    "        input_embedded += self.get_position_encoding(inputs)\n",
    "        input_embedded = self.i_emb_dropout(input_embedded)\n",
    "\n",
    "        return self.encoder(input_embedded, i_mask)\n",
    "\n",
    "    def decode(self, targets, enc_output, i_mask, t_self_mask, t_mask,\n",
    "               cache=None):\n",
    "        # target embedding\n",
    "        target_embedded = self.t_vocab_embedding(targets)\n",
    "        target_embedded.masked_fill_(t_mask.squeeze(1).unsqueeze(-1), 0)\n",
    "\n",
    "        # Shifting\n",
    "        target_embedded = target_embedded[:, :-1]\n",
    "        target_embedded = F.pad(target_embedded, (0, 0, 1, 0))\n",
    "\n",
    "        target_embedded *= self.emb_scale\n",
    "        target_embedded += self.get_position_encoding(targets)\n",
    "        target_embedded = self.t_emb_dropout(target_embedded)\n",
    "\n",
    "        # decoder\n",
    "        decoder_output = self.decoder(target_embedded, enc_output, i_mask,\n",
    "                                      t_self_mask, cache)\n",
    "        # linear\n",
    "        output = torch.matmul(decoder_output,\n",
    "                              self.t_vocab_embedding.weight.transpose(0, 1))\n",
    "\n",
    "        return output\n",
    "\n",
    "    def get_position_encoding(self, x):\n",
    "        max_length = x.size()[1]\n",
    "        position = torch.arange(max_length, dtype=torch.float32,\n",
    "                                device=x.device)\n",
    "        scaled_time = position.unsqueeze(1) * self.inv_timescales.unsqueeze(0)\n",
    "        signal = torch.cat([torch.sin(scaled_time), torch.cos(scaled_time)],\n",
    "                           dim=1)\n",
    "        signal = F.pad(signal, (0, 0, 0, self.hidden_size % 2))\n",
    "        signal = signal.view(1, max_length, self.hidden_size)\n",
    "        return signal\n"
   ]
  },
  {
   "cell_type": "code",
   "execution_count": 321,
   "metadata": {},
   "outputs": [],
   "source": [
    "\n",
    "def decode(self, targets, enc_output, i_mask, t_self_mask, t_mask,\n",
    "           cache=None):\n",
    "    # target embedding\n",
    "#    target_embedded = self.t_vocab_embedding(targets)\n",
    "#    target_embedded.masked_fill_(t_mask.squeeze(1).unsqueeze(-1), 0)\n",
    "\n",
    "    # Shifting\n",
    "    target_embedded = target_embedded[:, :-1]\n",
    "    target_embedded = F.pad(target_embedded, (0, 0, 1, 0))\n",
    "\n",
    "    target_embedded *= self.emb_scale\n",
    "    target_embedded += self.get_position_encoding(targets)\n",
    "    target_embedded = self.t_emb_dropout(target_embedded)\n",
    "\n",
    "    # decoder\n",
    "    decoder_output = self.decoder(target_embedded, enc_output, i_mask,\n",
    "                                  t_self_mask, cache)\n",
    "    # linear\n",
    "    output = torch.matmul(decoder_output,\n",
    "                          self.t_vocab_embedding.weight.transpose(0, 1))\n",
    "\n",
    "    return output\n",
    "\n",
    "def get_position_encoding(self, x):\n",
    "    max_length = x.size()[1]\n",
    "    position = torch.arange(max_length, dtype=torch.float32,\n",
    "                            device=x.device)\n",
    "    scaled_time = position.unsqueeze(1) * self.inv_timescales.unsqueeze(0)\n",
    "    signal = torch.cat([torch.sin(scaled_time), torch.cos(scaled_time)],\n",
    "                       dim=1)\n",
    "    signal = F.pad(signal, (0, 0, 0, self.hidden_size % 2))\n",
    "    signal = signal.view(1, max_length, self.hidden_size)\n",
    "    return signal\n"
   ]
  },
  {
   "cell_type": "code",
   "execution_count": null,
   "metadata": {},
   "outputs": [],
   "source": []
  },
  {
   "cell_type": "code",
   "execution_count": 19,
   "metadata": {},
   "outputs": [],
   "source": [
    "class DecoderLayer(nn.Module):\n",
    "    def __init__(self, hidden_size, filter_size, dropout_rate):\n",
    "        super(DecoderLayer, self).__init__()\n",
    "\n",
    "        self.self_attention_norm = nn.LayerNorm(hidden_size, eps=1e-6)\n",
    "        self.self_attention = MultiHeadAttention(hidden_size, dropout_rate)\n",
    "        self.self_attention_dropout = nn.Dropout(dropout_rate)\n",
    "\n",
    "       # self.enc_dec_attention_norm = nn.LayerNorm(hidden_size, eps=1e-6)\n",
    "       # self.enc_dec_attention = MultiHeadAttention(hidden_size, dropout_rate)\n",
    "       # self.enc_dec_attention_dropout = nn.Dropout(dropout_rate)\n",
    "\n",
    "        self.ffn_norm = nn.LayerNorm(hidden_size, eps=1e-6)\n",
    "        self.ffn = FeedForwardNetwork(hidden_size, filter_size, dropout_rate)\n",
    "        self.ffn_dropout = nn.Dropout(dropout_rate)\n",
    "\n",
    "    def forward(self, x, self_mask, cache):\n",
    "        y = self.self_attention_norm(x)\n",
    "        y = self.self_attention(y, y, y, self_mask)\n",
    "        y = self.self_attention_dropout(y)\n",
    "        x = x + y\n",
    "\n",
    "        y = self.ffn_norm(x)\n",
    "        y = self.ffn(y)\n",
    "        y = self.ffn_dropout(y)\n",
    "        x = x + y\n",
    "        return x\n",
    "    \n",
    "    \n",
    "class Decoder(nn.Module):\n",
    "    def __init__(self, hidden_size, filter_size, dropout_rate, n_layers):\n",
    "        super(Decoder, self).__init__()\n",
    "\n",
    "        decoders = [DecoderLayer(hidden_size, filter_size, dropout_rate)\n",
    "                    for _ in range(n_layers)]\n",
    "        self.layers = nn.ModuleList(decoders)\n",
    "\n",
    "        self.last_norm = nn.LayerNorm(hidden_size, eps=1e-6)\n",
    "\n",
    "    def forward(self, targets, t_self_mask, cache):\n",
    "        decoder_output = targets\n",
    "        for i, dec_layer in enumerate(self.layers):\n",
    "            layer_cache = None\n",
    "            if cache is not None:\n",
    "                if i not in cache:\n",
    "                    cache[i] = {}\n",
    "                layer_cache = cache[i]\n",
    "            decoder_output = dec_layer(decoder_output,\n",
    "                                       t_self_mask, layer_cache)\n",
    "        return self.last_norm(decoder_output)\n",
    "\n"
   ]
  },
  {
   "cell_type": "code",
   "execution_count": 31,
   "metadata": {},
   "outputs": [],
   "source": [
    "model = Decoder(hidden_size=8,filter_size=64,dropout_rate=.5,n_layers=3)"
   ]
  },
  {
   "cell_type": "code",
   "execution_count": 56,
   "metadata": {},
   "outputs": [],
   "source": [
    "targets_embedded = torch.randn(1,8) # convert to embedding, which is going to be numerical? \n",
    "#target_embedded += self.get_position_encoding(targets) "
   ]
  },
  {
   "cell_type": "code",
   "execution_count": 57,
   "metadata": {},
   "outputs": [],
   "source": [
    "t_self_mask = torch.ones(8,1)"
   ]
  },
  {
   "cell_type": "code",
   "execution_count": null,
   "metadata": {},
   "outputs": [],
   "source": []
  },
  {
   "cell_type": "code",
   "execution_count": null,
   "metadata": {},
   "outputs": [],
   "source": []
  },
  {
   "cell_type": "code",
   "execution_count": 59,
   "metadata": {},
   "outputs": [
    {
     "ename": "AssertionError",
     "evalue": "",
     "output_type": "error",
     "traceback": [
      "\u001b[0;31m---------------------------------------------------------------------------\u001b[0m",
      "\u001b[0;31mAssertionError\u001b[0m                            Traceback (most recent call last)",
      "\u001b[0;32m<ipython-input-59-14dc79089d00>\u001b[0m in \u001b[0;36m<module>\u001b[0;34m\u001b[0m\n\u001b[0;32m----> 1\u001b[0;31m \u001b[0mmodel\u001b[0m\u001b[0;34m(\u001b[0m\u001b[0mtargets_embedded\u001b[0m\u001b[0;34m,\u001b[0m\u001b[0mt_self_mask\u001b[0m\u001b[0;34m,\u001b[0m\u001b[0mcache\u001b[0m\u001b[0;34m=\u001b[0m\u001b[0;32mNone\u001b[0m\u001b[0;34m)\u001b[0m\u001b[0;34m\u001b[0m\u001b[0;34m\u001b[0m\u001b[0m\n\u001b[0m",
      "\u001b[0;32m~/anaconda3/lib/python3.8/site-packages/torch/nn/modules/module.py\u001b[0m in \u001b[0;36m_call_impl\u001b[0;34m(self, *input, **kwargs)\u001b[0m\n\u001b[1;32m   1049\u001b[0m         if not (self._backward_hooks or self._forward_hooks or self._forward_pre_hooks or _global_backward_hooks\n\u001b[1;32m   1050\u001b[0m                 or _global_forward_hooks or _global_forward_pre_hooks):\n\u001b[0;32m-> 1051\u001b[0;31m             \u001b[0;32mreturn\u001b[0m \u001b[0mforward_call\u001b[0m\u001b[0;34m(\u001b[0m\u001b[0;34m*\u001b[0m\u001b[0minput\u001b[0m\u001b[0;34m,\u001b[0m \u001b[0;34m**\u001b[0m\u001b[0mkwargs\u001b[0m\u001b[0;34m)\u001b[0m\u001b[0;34m\u001b[0m\u001b[0;34m\u001b[0m\u001b[0m\n\u001b[0m\u001b[1;32m   1052\u001b[0m         \u001b[0;31m# Do not call functions when jit is used\u001b[0m\u001b[0;34m\u001b[0m\u001b[0;34m\u001b[0m\u001b[0;34m\u001b[0m\u001b[0m\n\u001b[1;32m   1053\u001b[0m         \u001b[0mfull_backward_hooks\u001b[0m\u001b[0;34m,\u001b[0m \u001b[0mnon_full_backward_hooks\u001b[0m \u001b[0;34m=\u001b[0m \u001b[0;34m[\u001b[0m\u001b[0;34m]\u001b[0m\u001b[0;34m,\u001b[0m \u001b[0;34m[\u001b[0m\u001b[0;34m]\u001b[0m\u001b[0;34m\u001b[0m\u001b[0;34m\u001b[0m\u001b[0m\n",
      "\u001b[0;32m<ipython-input-19-502e12aa9233>\u001b[0m in \u001b[0;36mforward\u001b[0;34m(self, targets, t_self_mask, cache)\u001b[0m\n\u001b[1;32m     46\u001b[0m                     \u001b[0mcache\u001b[0m\u001b[0;34m[\u001b[0m\u001b[0mi\u001b[0m\u001b[0;34m]\u001b[0m \u001b[0;34m=\u001b[0m \u001b[0;34m{\u001b[0m\u001b[0;34m}\u001b[0m\u001b[0;34m\u001b[0m\u001b[0;34m\u001b[0m\u001b[0m\n\u001b[1;32m     47\u001b[0m                 \u001b[0mlayer_cache\u001b[0m \u001b[0;34m=\u001b[0m \u001b[0mcache\u001b[0m\u001b[0;34m[\u001b[0m\u001b[0mi\u001b[0m\u001b[0;34m]\u001b[0m\u001b[0;34m\u001b[0m\u001b[0;34m\u001b[0m\u001b[0m\n\u001b[0;32m---> 48\u001b[0;31m             decoder_output = dec_layer(decoder_output,\n\u001b[0m\u001b[1;32m     49\u001b[0m                                        t_self_mask, layer_cache)\n\u001b[1;32m     50\u001b[0m         \u001b[0;32mreturn\u001b[0m \u001b[0mself\u001b[0m\u001b[0;34m.\u001b[0m\u001b[0mlast_norm\u001b[0m\u001b[0;34m(\u001b[0m\u001b[0mdecoder_output\u001b[0m\u001b[0;34m)\u001b[0m\u001b[0;34m\u001b[0m\u001b[0;34m\u001b[0m\u001b[0m\n",
      "\u001b[0;32m~/anaconda3/lib/python3.8/site-packages/torch/nn/modules/module.py\u001b[0m in \u001b[0;36m_call_impl\u001b[0;34m(self, *input, **kwargs)\u001b[0m\n\u001b[1;32m   1049\u001b[0m         if not (self._backward_hooks or self._forward_hooks or self._forward_pre_hooks or _global_backward_hooks\n\u001b[1;32m   1050\u001b[0m                 or _global_forward_hooks or _global_forward_pre_hooks):\n\u001b[0;32m-> 1051\u001b[0;31m             \u001b[0;32mreturn\u001b[0m \u001b[0mforward_call\u001b[0m\u001b[0;34m(\u001b[0m\u001b[0;34m*\u001b[0m\u001b[0minput\u001b[0m\u001b[0;34m,\u001b[0m \u001b[0;34m**\u001b[0m\u001b[0mkwargs\u001b[0m\u001b[0;34m)\u001b[0m\u001b[0;34m\u001b[0m\u001b[0;34m\u001b[0m\u001b[0m\n\u001b[0m\u001b[1;32m   1052\u001b[0m         \u001b[0;31m# Do not call functions when jit is used\u001b[0m\u001b[0;34m\u001b[0m\u001b[0;34m\u001b[0m\u001b[0;34m\u001b[0m\u001b[0m\n\u001b[1;32m   1053\u001b[0m         \u001b[0mfull_backward_hooks\u001b[0m\u001b[0;34m,\u001b[0m \u001b[0mnon_full_backward_hooks\u001b[0m \u001b[0;34m=\u001b[0m \u001b[0;34m[\u001b[0m\u001b[0;34m]\u001b[0m\u001b[0;34m,\u001b[0m \u001b[0;34m[\u001b[0m\u001b[0;34m]\u001b[0m\u001b[0;34m\u001b[0m\u001b[0;34m\u001b[0m\u001b[0m\n",
      "\u001b[0;32m<ipython-input-19-502e12aa9233>\u001b[0m in \u001b[0;36mforward\u001b[0;34m(self, x, self_mask, cache)\u001b[0m\n\u001b[1;32m     17\u001b[0m     \u001b[0;32mdef\u001b[0m \u001b[0mforward\u001b[0m\u001b[0;34m(\u001b[0m\u001b[0mself\u001b[0m\u001b[0;34m,\u001b[0m \u001b[0mx\u001b[0m\u001b[0;34m,\u001b[0m \u001b[0mself_mask\u001b[0m\u001b[0;34m,\u001b[0m \u001b[0mcache\u001b[0m\u001b[0;34m)\u001b[0m\u001b[0;34m:\u001b[0m\u001b[0;34m\u001b[0m\u001b[0;34m\u001b[0m\u001b[0m\n\u001b[1;32m     18\u001b[0m         \u001b[0my\u001b[0m \u001b[0;34m=\u001b[0m \u001b[0mself\u001b[0m\u001b[0;34m.\u001b[0m\u001b[0mself_attention_norm\u001b[0m\u001b[0;34m(\u001b[0m\u001b[0mx\u001b[0m\u001b[0;34m)\u001b[0m\u001b[0;34m\u001b[0m\u001b[0;34m\u001b[0m\u001b[0m\n\u001b[0;32m---> 19\u001b[0;31m         \u001b[0my\u001b[0m \u001b[0;34m=\u001b[0m \u001b[0mself\u001b[0m\u001b[0;34m.\u001b[0m\u001b[0mself_attention\u001b[0m\u001b[0;34m(\u001b[0m\u001b[0my\u001b[0m\u001b[0;34m,\u001b[0m \u001b[0my\u001b[0m\u001b[0;34m,\u001b[0m \u001b[0my\u001b[0m\u001b[0;34m,\u001b[0m \u001b[0mself_mask\u001b[0m\u001b[0;34m)\u001b[0m\u001b[0;34m\u001b[0m\u001b[0;34m\u001b[0m\u001b[0m\n\u001b[0m\u001b[1;32m     20\u001b[0m         \u001b[0my\u001b[0m \u001b[0;34m=\u001b[0m \u001b[0mself\u001b[0m\u001b[0;34m.\u001b[0m\u001b[0mself_attention_dropout\u001b[0m\u001b[0;34m(\u001b[0m\u001b[0my\u001b[0m\u001b[0;34m)\u001b[0m\u001b[0;34m\u001b[0m\u001b[0;34m\u001b[0m\u001b[0m\n\u001b[1;32m     21\u001b[0m         \u001b[0mx\u001b[0m \u001b[0;34m=\u001b[0m \u001b[0mx\u001b[0m \u001b[0;34m+\u001b[0m \u001b[0my\u001b[0m\u001b[0;34m\u001b[0m\u001b[0;34m\u001b[0m\u001b[0m\n",
      "\u001b[0;32m~/anaconda3/lib/python3.8/site-packages/torch/nn/modules/module.py\u001b[0m in \u001b[0;36m_call_impl\u001b[0;34m(self, *input, **kwargs)\u001b[0m\n\u001b[1;32m   1049\u001b[0m         if not (self._backward_hooks or self._forward_hooks or self._forward_pre_hooks or _global_backward_hooks\n\u001b[1;32m   1050\u001b[0m                 or _global_forward_hooks or _global_forward_pre_hooks):\n\u001b[0;32m-> 1051\u001b[0;31m             \u001b[0;32mreturn\u001b[0m \u001b[0mforward_call\u001b[0m\u001b[0;34m(\u001b[0m\u001b[0;34m*\u001b[0m\u001b[0minput\u001b[0m\u001b[0;34m,\u001b[0m \u001b[0;34m**\u001b[0m\u001b[0mkwargs\u001b[0m\u001b[0;34m)\u001b[0m\u001b[0;34m\u001b[0m\u001b[0;34m\u001b[0m\u001b[0m\n\u001b[0m\u001b[1;32m   1052\u001b[0m         \u001b[0;31m# Do not call functions when jit is used\u001b[0m\u001b[0;34m\u001b[0m\u001b[0;34m\u001b[0m\u001b[0;34m\u001b[0m\u001b[0m\n\u001b[1;32m   1053\u001b[0m         \u001b[0mfull_backward_hooks\u001b[0m\u001b[0;34m,\u001b[0m \u001b[0mnon_full_backward_hooks\u001b[0m \u001b[0;34m=\u001b[0m \u001b[0;34m[\u001b[0m\u001b[0;34m]\u001b[0m\u001b[0;34m,\u001b[0m \u001b[0;34m[\u001b[0m\u001b[0;34m]\u001b[0m\u001b[0;34m\u001b[0m\u001b[0;34m\u001b[0m\u001b[0m\n",
      "\u001b[0;32m<ipython-input-1-f2846e395915>\u001b[0m in \u001b[0;36mforward\u001b[0;34m(self, q, k, v, mask, cache)\u001b[0m\n\u001b[1;32m    100\u001b[0m         \u001b[0mx\u001b[0m \u001b[0;34m=\u001b[0m \u001b[0mself\u001b[0m\u001b[0;34m.\u001b[0m\u001b[0moutput_layer\u001b[0m\u001b[0;34m(\u001b[0m\u001b[0mx\u001b[0m\u001b[0;34m)\u001b[0m\u001b[0;34m\u001b[0m\u001b[0;34m\u001b[0m\u001b[0m\n\u001b[1;32m    101\u001b[0m \u001b[0;34m\u001b[0m\u001b[0m\n\u001b[0;32m--> 102\u001b[0;31m         \u001b[0;32massert\u001b[0m \u001b[0mx\u001b[0m\u001b[0;34m.\u001b[0m\u001b[0msize\u001b[0m\u001b[0;34m(\u001b[0m\u001b[0;34m)\u001b[0m \u001b[0;34m==\u001b[0m \u001b[0morig_q_size\u001b[0m\u001b[0;34m\u001b[0m\u001b[0;34m\u001b[0m\u001b[0m\n\u001b[0m\u001b[1;32m    103\u001b[0m         \u001b[0;32mreturn\u001b[0m \u001b[0mx\u001b[0m\u001b[0;34m\u001b[0m\u001b[0;34m\u001b[0m\u001b[0m\n\u001b[1;32m    104\u001b[0m \u001b[0;34m\u001b[0m\u001b[0m\n",
      "\u001b[0;31mAssertionError\u001b[0m: "
     ]
    }
   ],
   "source": [
    "model(targets_embedded,t_self_mask,cache=None)"
   ]
  },
  {
   "cell_type": "code",
   "execution_count": null,
   "metadata": {},
   "outputs": [],
   "source": []
  },
  {
   "cell_type": "markdown",
   "metadata": {},
   "source": [
    "# Step I: From Data to Positionally Encoded Form"
   ]
  },
  {
   "cell_type": "code",
   "execution_count": 9,
   "metadata": {},
   "outputs": [],
   "source": [
    "import sys\n",
    "sys.path.append('../src')\n",
    "from dataloaders import create_dataloaders\n",
    "import matplotlib.pyplot as plt\n",
    "%matplotlib inline\n",
    "\n",
    "train_loader, _, _ = create_dataloaders(prior_years=3,crypto='btc',values='usd',batch_size=8,buy_thresh=3,labels_to_load=['pct_change'],window=7)\n",
    "\n",
    "for batch in train_loader:\n",
    "    break"
   ]
  },
  {
   "cell_type": "code",
   "execution_count": 212,
   "metadata": {},
   "outputs": [],
   "source": [
    "train_loader, _, _ = create_dataloaders(prior_years=3,crypto='btc',values='usd',batch_size=8,buy_thresh=3,labels_to_load=['pct_change'],window=7)"
   ]
  },
  {
   "cell_type": "code",
   "execution_count": 213,
   "metadata": {},
   "outputs": [],
   "source": [
    "for batch in train_loader:\n",
    "    break"
   ]
  },
  {
   "cell_type": "code",
   "execution_count": 214,
   "metadata": {},
   "outputs": [
    {
     "data": {
      "text/plain": [
       "[<matplotlib.lines.Line2D at 0x7fac55c1d640>]"
      ]
     },
     "execution_count": 214,
     "metadata": {},
     "output_type": "execute_result"
    },
    {
     "data": {
      "image/png": "[encoded data removed]",
      "text/plain": [
       "<Figure size 432x288 with 1 Axes>"
      ]
     },
     "metadata": {
      "needs_background": "light"
     },
     "output_type": "display_data"
    }
   ],
   "source": [
    "plt.plot(batch[0][1])"
   ]
  },
  {
   "cell_type": "code",
   "execution_count": 230,
   "metadata": {},
   "outputs": [],
   "source": [
    "hidden_size = 6\n",
    "import math\n",
    "import torch\n",
    "import torch.nn.functional as F"
   ]
  },
  {
   "cell_type": "code",
   "execution_count": 231,
   "metadata": {},
   "outputs": [],
   "source": [
    "# For positional encoding\n",
    "num_timescales = hidden_size // 2\n",
    "max_timescale = 1000000.0\n",
    "min_timescale = 1.0\n",
    "log_timescale_increment = (\n",
    "    math.log(float(max_timescale) / float(min_timescale)) /\n",
    "    max(num_timescales - 1, 1))\n",
    "inv_timescales = min_timescale * torch.exp(\n",
    "    torch.arange(num_timescales, dtype=torch.float32) *\n",
    "    -log_timescale_increment)\n",
    "\n",
    "\n",
    "\n"
   ]
  },
  {
   "cell_type": "code",
   "execution_count": 232,
   "metadata": {},
   "outputs": [],
   "source": [
    "\n",
    "def get_position_encoding(x):\n",
    "    max_length = x.shape[0]\n",
    "    position = torch.arange(max_length, dtype=torch.float32,\n",
    "                            device=x.device)\n",
    "    scaled_time = position.unsqueeze(1) * inv_timescales.unsqueeze(0)\n",
    "    signal = torch.cat([torch.sin(scaled_time), torch.cos(scaled_time)],\n",
    "                       dim=1)\n",
    "    signal = F.pad(signal, (0, 0, 0, hidden_size % 2))\n",
    "    signal = signal.view(1, max_length, hidden_size)\n",
    "    return signal\n"
   ]
  },
  {
   "cell_type": "code",
   "execution_count": 233,
   "metadata": {},
   "outputs": [],
   "source": [
    "x = batch[0][-3]"
   ]
  },
  {
   "cell_type": "code",
   "execution_count": 234,
   "metadata": {},
   "outputs": [
    {
     "data": {
      "text/plain": [
       "[<matplotlib.lines.Line2D at 0x7fac55ffbc10>]"
      ]
     },
     "execution_count": 234,
     "metadata": {},
     "output_type": "execute_result"
    },
    {
     "data": {
      "image/png": "[encoded data removed]",
      "text/plain": [
       "<Figure size 432x288 with 1 Axes>"
      ]
     },
     "metadata": {
      "needs_background": "light"
     },
     "output_type": "display_data"
    }
   ],
   "source": [
    "plt.plot(x)"
   ]
  },
  {
   "cell_type": "code",
   "execution_count": 235,
   "metadata": {},
   "outputs": [
    {
     "data": {
      "text/plain": [
       "tensor([[[ 0.0000e+00,  0.0000e+00,  0.0000e+00,  1.0000e+00,  1.0000e+00,\n",
       "           1.0000e+00],\n",
       "         [ 8.4147e-01,  1.0000e-03,  1.0000e-06,  5.4030e-01,  1.0000e+00,\n",
       "           1.0000e+00],\n",
       "         [ 9.0930e-01,  2.0000e-03,  2.0000e-06, -4.1615e-01,  1.0000e+00,\n",
       "           1.0000e+00],\n",
       "         [ 1.4112e-01,  3.0000e-03,  3.0000e-06, -9.8999e-01,  1.0000e+00,\n",
       "           1.0000e+00],\n",
       "         [-7.5680e-01,  4.0000e-03,  4.0000e-06, -6.5364e-01,  9.9999e-01,\n",
       "           1.0000e+00],\n",
       "         [-9.5892e-01,  5.0000e-03,  5.0000e-06,  2.8366e-01,  9.9999e-01,\n",
       "           1.0000e+00],\n",
       "         [-2.7942e-01,  6.0000e-03,  6.0000e-06,  9.6017e-01,  9.9998e-01,\n",
       "           1.0000e+00]]])"
      ]
     },
     "execution_count": 235,
     "metadata": {},
     "output_type": "execute_result"
    }
   ],
   "source": [
    "get_position_encoding(x)"
   ]
  },
  {
   "cell_type": "code",
   "execution_count": 236,
   "metadata": {},
   "outputs": [
    {
     "data": {
      "text/plain": [
       "tensor([[ 0.0000e+00,  0.0000e+00,  0.0000e+00,  1.0000e+00,  1.0000e+00,\n",
       "          1.0000e+00],\n",
       "        [ 8.4147e-01,  1.0000e-03,  1.0000e-06,  5.4030e-01,  1.0000e+00,\n",
       "          1.0000e+00],\n",
       "        [ 9.0930e-01,  2.0000e-03,  2.0000e-06, -4.1615e-01,  1.0000e+00,\n",
       "          1.0000e+00],\n",
       "        [ 1.4112e-01,  3.0000e-03,  3.0000e-06, -9.8999e-01,  1.0000e+00,\n",
       "          1.0000e+00],\n",
       "        [-7.5680e-01,  4.0000e-03,  4.0000e-06, -6.5364e-01,  9.9999e-01,\n",
       "          1.0000e+00],\n",
       "        [-9.5892e-01,  5.0000e-03,  5.0000e-06,  2.8366e-01,  9.9999e-01,\n",
       "          1.0000e+00],\n",
       "        [-2.7942e-01,  6.0000e-03,  6.0000e-06,  9.6017e-01,  9.9998e-01,\n",
       "          1.0000e+00]])"
      ]
     },
     "execution_count": 236,
     "metadata": {},
     "output_type": "execute_result"
    }
   ],
   "source": [
    "get_position_encoding(batch[0][-1])[0]"
   ]
  },
  {
   "cell_type": "code",
   "execution_count": 237,
   "metadata": {},
   "outputs": [
    {
     "data": {
      "text/plain": [
       "tensor([[ 0.0000e+00,  0.0000e+00,  0.0000e+00,  1.0000e+00,  1.0000e+00,\n",
       "          1.0000e+00],\n",
       "        [ 8.4147e-01,  1.0000e-03,  1.0000e-06,  5.4030e-01,  1.0000e+00,\n",
       "          1.0000e+00],\n",
       "        [ 9.0930e-01,  2.0000e-03,  2.0000e-06, -4.1615e-01,  1.0000e+00,\n",
       "          1.0000e+00],\n",
       "        [ 1.4112e-01,  3.0000e-03,  3.0000e-06, -9.8999e-01,  1.0000e+00,\n",
       "          1.0000e+00],\n",
       "        [-7.5680e-01,  4.0000e-03,  4.0000e-06, -6.5364e-01,  9.9999e-01,\n",
       "          1.0000e+00],\n",
       "        [-9.5892e-01,  5.0000e-03,  5.0000e-06,  2.8366e-01,  9.9999e-01,\n",
       "          1.0000e+00],\n",
       "        [-2.7942e-01,  6.0000e-03,  6.0000e-06,  9.6017e-01,  9.9998e-01,\n",
       "          1.0000e+00]])"
      ]
     },
     "execution_count": 237,
     "metadata": {},
     "output_type": "execute_result"
    }
   ],
   "source": [
    "get_position_encoding(batch[0][0])[0]"
   ]
  },
  {
   "cell_type": "code",
   "execution_count": 210,
   "metadata": {},
   "outputs": [
    {
     "data": {
      "text/plain": [
       "<matplotlib.image.AxesImage at 0x7fac4843e700>"
      ]
     },
     "execution_count": 210,
     "metadata": {},
     "output_type": "execute_result"
    },
    {
     "data": {
      "image/png": "[encoded data removed]",
      "text/plain": [
       "<Figure size 432x288 with 1 Axes>"
      ]
     },
     "metadata": {
      "needs_background": "light"
     },
     "output_type": "display_data"
    }
   ],
   "source": [
    "plt.imshow(get_position_encoding(batch[0][0])[0].T)"
   ]
  },
  {
   "cell_type": "code",
   "execution_count": 211,
   "metadata": {},
   "outputs": [
    {
     "data": {
      "text/plain": [
       "<matplotlib.image.AxesImage at 0x7fac55effd90>"
      ]
     },
     "execution_count": 211,
     "metadata": {},
     "output_type": "execute_result"
    },
    {
     "data": {
      "image/png": "[encoded data removed]",
      "text/plain": [
       "<Figure size 432x288 with 1 Axes>"
      ]
     },
     "metadata": {
      "needs_background": "light"
     },
     "output_type": "display_data"
    }
   ],
   "source": [
    "plt.imshow(get_position_encoding(batch[0][-1])[0].T)"
   ]
  },
  {
   "cell_type": "code",
   "execution_count": 275,
   "metadata": {},
   "outputs": [],
   "source": [
    "from torch.nn import Embedding,Linear"
   ]
  },
  {
   "cell_type": "code",
   "execution_count": 276,
   "metadata": {},
   "outputs": [],
   "source": [
    "embedding_layer = Linear(in_features=1,out_features=hidden_size,)"
   ]
  },
  {
   "cell_type": "code",
   "execution_count": 288,
   "metadata": {},
   "outputs": [],
   "source": [
    "x = batch[0][0].unsqueeze(1)"
   ]
  },
  {
   "cell_type": "code",
   "execution_count": 289,
   "metadata": {},
   "outputs": [],
   "source": [
    "x = embedding_layer(x).unsqueeze(0)\n",
    "x += get_position_encoding(x)"
   ]
  },
  {
   "cell_type": "code",
   "execution_count": 290,
   "metadata": {},
   "outputs": [],
   "source": []
  },
  {
   "cell_type": "code",
   "execution_count": 303,
   "metadata": {},
   "outputs": [
    {
     "data": {
      "text/plain": [
       "tensor([[[ 0.9107, -1.1920,  1.4491,  0.0609,  1.4767,  0.5452],\n",
       "         [ 0.7208, -1.0516,  1.1178,  0.2788,  1.3764,  0.6726],\n",
       "         [ 0.6751, -1.0177,  1.0379,  0.3313,  1.3522,  0.7033],\n",
       "         [ 0.3319, -0.7640,  0.4391,  0.7251,  1.1709,  0.9334],\n",
       "         [ 0.0282, -0.5394, -0.0908,  1.0735,  1.0105,  1.1371],\n",
       "         [-0.1860, -0.3810, -0.4647,  1.3194,  0.8972,  1.2808],\n",
       "         [-0.4654, -0.1744, -0.9522,  1.6399,  0.7496,  1.4681]]],\n",
       "       grad_fn=<AsStridedBackward>)"
      ]
     },
     "execution_count": 303,
     "metadata": {},
     "output_type": "execute_result"
    }
   ],
   "source": [
    "x"
   ]
  },
  {
   "cell_type": "code",
   "execution_count": 335,
   "metadata": {},
   "outputs": [],
   "source": [
    "import torch.nn as nn\n",
    "class DecoderLayer(nn.Module):\n",
    "    def __init__(self, hidden_size, filter_size, dropout_rate=0.1):\n",
    "        super(DecoderLayer, self).__init__()\n",
    "\n",
    "        self.self_attention_norm = nn.LayerNorm(hidden_size, eps=1e-6)\n",
    "        self.self_attention = MultiHeadAttention(hidden_size, dropout_rate)\n",
    "        self.self_attention_dropout = nn.Dropout(dropout_rate)\n",
    "\n",
    "       # self.enc_dec_attention_norm = nn.LayerNorm(hidden_size, eps=1e-6)\n",
    "        #self.enc_dec_attention = MultiHeadAttention(hidden_size, dropout_rate)\n",
    "        #self.enc_dec_attention_dropout = nn.Dropout(dropout_rate)\n",
    "\n",
    "        self.ffn_norm = nn.LayerNorm(hidden_size, eps=1e-6)\n",
    "        self.ffn = FeedForwardNetwork(hidden_size, filter_size, dropout_rate)\n",
    "        self.ffn_dropout = nn.Dropout(dropout_rate)\n",
    "\n",
    "    def forward(self, x, self_mask):\n",
    "        y = self.self_attention_norm(x)\n",
    "        y = self.self_attention(y, y, y, self_mask)\n",
    "        y = self.self_attention_dropout(y)\n",
    "        x = x + y\n",
    "\n",
    "       # if enc_output is not None:\n",
    "       #     y = self.enc_dec_attention_norm(x)\n",
    "        #    y = self.enc_dec_attention(y, enc_output, enc_output, i_mask,\n",
    "                                   #    cache)\n",
    "          #  y = self.enc_dec_attention_dropout(y)\n",
    "        #   x = x + y\n",
    "\n",
    "        y = self.ffn_norm(x)\n",
    "        y = self.ffn(y)\n",
    "        y = self.ffn_dropout(y)\n",
    "        x = x + y\n",
    "        return x\n",
    "\n",
    "\n",
    "\n",
    "class Decoder(nn.Module):\n",
    "    def __init__(self, hidden_size, filter_size, dropout_rate, n_layers):\n",
    "        super(Decoder, self).__init__()\n",
    "\n",
    "        decoders = [DecoderLayer(hidden_size, filter_size, dropout_rate)\n",
    "                    for _ in range(n_layers)]\n",
    "        self.layers = nn.ModuleList(decoders)\n",
    "\n",
    "        self.last_norm = nn.LayerNorm(hidden_size, eps=1e-6)\n",
    "\n",
    "    def forward(self, x, self_mask):\n",
    "        decoder_output = x\n",
    "        for i, dec_layer in enumerate(self.layers):\n",
    "            decoder_output = dec_layer(decoder_output,\n",
    "                                       self_mask)\n",
    "        return self.last_norm(decoder_output)"
   ]
  },
  {
   "cell_type": "code",
   "execution_count": 336,
   "metadata": {},
   "outputs": [],
   "source": [
    "dec_layer = DecoderLayer(hidden_size, filter_size=3)\n",
    "\n",
    "decoder = Decoder(hidden_size=6,filter_size=3,dropout_rate=.1,n_layers=8)"
   ]
  },
  {
   "cell_type": "code",
   "execution_count": 337,
   "metadata": {},
   "outputs": [
    {
     "data": {
      "text/plain": [
       "torch.Size([1, 7])"
      ]
     },
     "execution_count": 337,
     "metadata": {},
     "output_type": "execute_result"
    }
   ],
   "source": [
    "mask = torch.ones(1,7)\n",
    "mask.shape"
   ]
  },
  {
   "cell_type": "code",
   "execution_count": 338,
   "metadata": {},
   "outputs": [],
   "source": [
    "out = decoder.forward(x=x,self_mask=mask[0])"
   ]
  },
  {
   "cell_type": "code",
   "execution_count": 339,
   "metadata": {},
   "outputs": [
    {
     "data": {
      "text/plain": [
       "torch.Size([1, 7, 6])"
      ]
     },
     "execution_count": 339,
     "metadata": {},
     "output_type": "execute_result"
    }
   ],
   "source": [
    "out.shape"
   ]
  },
  {
   "cell_type": "code",
   "execution_count": 340,
   "metadata": {},
   "outputs": [
    {
     "data": {
      "text/plain": [
       "Decoder(\n",
       "  (layers): ModuleList(\n",
       "    (0): DecoderLayer(\n",
       "      (self_attention_norm): LayerNorm((6,), eps=1e-06, elementwise_affine=True)\n",
       "      (self_attention): MultiHeadAttention(\n",
       "        (linear_q): Linear(in_features=6, out_features=6, bias=False)\n",
       "        (linear_k): Linear(in_features=6, out_features=6, bias=False)\n",
       "        (linear_v): Linear(in_features=6, out_features=6, bias=False)\n",
       "        (att_dropout): Dropout(p=0.1, inplace=False)\n",
       "        (output_layer): Linear(in_features=6, out_features=6, bias=False)\n",
       "      )\n",
       "      (self_attention_dropout): Dropout(p=0.1, inplace=False)\n",
       "      (ffn_norm): LayerNorm((6,), eps=1e-06, elementwise_affine=True)\n",
       "      (ffn): FeedForwardNetwork(\n",
       "        (layer1): Linear(in_features=6, out_features=3, bias=True)\n",
       "        (relu): ReLU()\n",
       "        (dropout): Dropout(p=0.1, inplace=False)\n",
       "        (layer2): Linear(in_features=3, out_features=6, bias=True)\n",
       "      )\n",
       "      (ffn_dropout): Dropout(p=0.1, inplace=False)\n",
       "    )\n",
       "    (1): DecoderLayer(\n",
       "      (self_attention_norm): LayerNorm((6,), eps=1e-06, elementwise_affine=True)\n",
       "      (self_attention): MultiHeadAttention(\n",
       "        (linear_q): Linear(in_features=6, out_features=6, bias=False)\n",
       "        (linear_k): Linear(in_features=6, out_features=6, bias=False)\n",
       "        (linear_v): Linear(in_features=6, out_features=6, bias=False)\n",
       "        (att_dropout): Dropout(p=0.1, inplace=False)\n",
       "        (output_layer): Linear(in_features=6, out_features=6, bias=False)\n",
       "      )\n",
       "      (self_attention_dropout): Dropout(p=0.1, inplace=False)\n",
       "      (ffn_norm): LayerNorm((6,), eps=1e-06, elementwise_affine=True)\n",
       "      (ffn): FeedForwardNetwork(\n",
       "        (layer1): Linear(in_features=6, out_features=3, bias=True)\n",
       "        (relu): ReLU()\n",
       "        (dropout): Dropout(p=0.1, inplace=False)\n",
       "        (layer2): Linear(in_features=3, out_features=6, bias=True)\n",
       "      )\n",
       "      (ffn_dropout): Dropout(p=0.1, inplace=False)\n",
       "    )\n",
       "    (2): DecoderLayer(\n",
       "      (self_attention_norm): LayerNorm((6,), eps=1e-06, elementwise_affine=True)\n",
       "      (self_attention): MultiHeadAttention(\n",
       "        (linear_q): Linear(in_features=6, out_features=6, bias=False)\n",
       "        (linear_k): Linear(in_features=6, out_features=6, bias=False)\n",
       "        (linear_v): Linear(in_features=6, out_features=6, bias=False)\n",
       "        (att_dropout): Dropout(p=0.1, inplace=False)\n",
       "        (output_layer): Linear(in_features=6, out_features=6, bias=False)\n",
       "      )\n",
       "      (self_attention_dropout): Dropout(p=0.1, inplace=False)\n",
       "      (ffn_norm): LayerNorm((6,), eps=1e-06, elementwise_affine=True)\n",
       "      (ffn): FeedForwardNetwork(\n",
       "        (layer1): Linear(in_features=6, out_features=3, bias=True)\n",
       "        (relu): ReLU()\n",
       "        (dropout): Dropout(p=0.1, inplace=False)\n",
       "        (layer2): Linear(in_features=3, out_features=6, bias=True)\n",
       "      )\n",
       "      (ffn_dropout): Dropout(p=0.1, inplace=False)\n",
       "    )\n",
       "    (3): DecoderLayer(\n",
       "      (self_attention_norm): LayerNorm((6,), eps=1e-06, elementwise_affine=True)\n",
       "      (self_attention): MultiHeadAttention(\n",
       "        (linear_q): Linear(in_features=6, out_features=6, bias=False)\n",
       "        (linear_k): Linear(in_features=6, out_features=6, bias=False)\n",
       "        (linear_v): Linear(in_features=6, out_features=6, bias=False)\n",
       "        (att_dropout): Dropout(p=0.1, inplace=False)\n",
       "        (output_layer): Linear(in_features=6, out_features=6, bias=False)\n",
       "      )\n",
       "      (self_attention_dropout): Dropout(p=0.1, inplace=False)\n",
       "      (ffn_norm): LayerNorm((6,), eps=1e-06, elementwise_affine=True)\n",
       "      (ffn): FeedForwardNetwork(\n",
       "        (layer1): Linear(in_features=6, out_features=3, bias=True)\n",
       "        (relu): ReLU()\n",
       "        (dropout): Dropout(p=0.1, inplace=False)\n",
       "        (layer2): Linear(in_features=3, out_features=6, bias=True)\n",
       "      )\n",
       "      (ffn_dropout): Dropout(p=0.1, inplace=False)\n",
       "    )\n",
       "    (4): DecoderLayer(\n",
       "      (self_attention_norm): LayerNorm((6,), eps=1e-06, elementwise_affine=True)\n",
       "      (self_attention): MultiHeadAttention(\n",
       "        (linear_q): Linear(in_features=6, out_features=6, bias=False)\n",
       "        (linear_k): Linear(in_features=6, out_features=6, bias=False)\n",
       "        (linear_v): Linear(in_features=6, out_features=6, bias=False)\n",
       "        (att_dropout): Dropout(p=0.1, inplace=False)\n",
       "        (output_layer): Linear(in_features=6, out_features=6, bias=False)\n",
       "      )\n",
       "      (self_attention_dropout): Dropout(p=0.1, inplace=False)\n",
       "      (ffn_norm): LayerNorm((6,), eps=1e-06, elementwise_affine=True)\n",
       "      (ffn): FeedForwardNetwork(\n",
       "        (layer1): Linear(in_features=6, out_features=3, bias=True)\n",
       "        (relu): ReLU()\n",
       "        (dropout): Dropout(p=0.1, inplace=False)\n",
       "        (layer2): Linear(in_features=3, out_features=6, bias=True)\n",
       "      )\n",
       "      (ffn_dropout): Dropout(p=0.1, inplace=False)\n",
       "    )\n",
       "    (5): DecoderLayer(\n",
       "      (self_attention_norm): LayerNorm((6,), eps=1e-06, elementwise_affine=True)\n",
       "      (self_attention): MultiHeadAttention(\n",
       "        (linear_q): Linear(in_features=6, out_features=6, bias=False)\n",
       "        (linear_k): Linear(in_features=6, out_features=6, bias=False)\n",
       "        (linear_v): Linear(in_features=6, out_features=6, bias=False)\n",
       "        (att_dropout): Dropout(p=0.1, inplace=False)\n",
       "        (output_layer): Linear(in_features=6, out_features=6, bias=False)\n",
       "      )\n",
       "      (self_attention_dropout): Dropout(p=0.1, inplace=False)\n",
       "      (ffn_norm): LayerNorm((6,), eps=1e-06, elementwise_affine=True)\n",
       "      (ffn): FeedForwardNetwork(\n",
       "        (layer1): Linear(in_features=6, out_features=3, bias=True)\n",
       "        (relu): ReLU()\n",
       "        (dropout): Dropout(p=0.1, inplace=False)\n",
       "        (layer2): Linear(in_features=3, out_features=6, bias=True)\n",
       "      )\n",
       "      (ffn_dropout): Dropout(p=0.1, inplace=False)\n",
       "    )\n",
       "    (6): DecoderLayer(\n",
       "      (self_attention_norm): LayerNorm((6,), eps=1e-06, elementwise_affine=True)\n",
       "      (self_attention): MultiHeadAttention(\n",
       "        (linear_q): Linear(in_features=6, out_features=6, bias=False)\n",
       "        (linear_k): Linear(in_features=6, out_features=6, bias=False)\n",
       "        (linear_v): Linear(in_features=6, out_features=6, bias=False)\n",
       "        (att_dropout): Dropout(p=0.1, inplace=False)\n",
       "        (output_layer): Linear(in_features=6, out_features=6, bias=False)\n",
       "      )\n",
       "      (self_attention_dropout): Dropout(p=0.1, inplace=False)\n",
       "      (ffn_norm): LayerNorm((6,), eps=1e-06, elementwise_affine=True)\n",
       "      (ffn): FeedForwardNetwork(\n",
       "        (layer1): Linear(in_features=6, out_features=3, bias=True)\n",
       "        (relu): ReLU()\n",
       "        (dropout): Dropout(p=0.1, inplace=False)\n",
       "        (layer2): Linear(in_features=3, out_features=6, bias=True)\n",
       "      )\n",
       "      (ffn_dropout): Dropout(p=0.1, inplace=False)\n",
       "    )\n",
       "    (7): DecoderLayer(\n",
       "      (self_attention_norm): LayerNorm((6,), eps=1e-06, elementwise_affine=True)\n",
       "      (self_attention): MultiHeadAttention(\n",
       "        (linear_q): Linear(in_features=6, out_features=6, bias=False)\n",
       "        (linear_k): Linear(in_features=6, out_features=6, bias=False)\n",
       "        (linear_v): Linear(in_features=6, out_features=6, bias=False)\n",
       "        (att_dropout): Dropout(p=0.1, inplace=False)\n",
       "        (output_layer): Linear(in_features=6, out_features=6, bias=False)\n",
       "      )\n",
       "      (self_attention_dropout): Dropout(p=0.1, inplace=False)\n",
       "      (ffn_norm): LayerNorm((6,), eps=1e-06, elementwise_affine=True)\n",
       "      (ffn): FeedForwardNetwork(\n",
       "        (layer1): Linear(in_features=6, out_features=3, bias=True)\n",
       "        (relu): ReLU()\n",
       "        (dropout): Dropout(p=0.1, inplace=False)\n",
       "        (layer2): Linear(in_features=3, out_features=6, bias=True)\n",
       "      )\n",
       "      (ffn_dropout): Dropout(p=0.1, inplace=False)\n",
       "    )\n",
       "  )\n",
       "  (last_norm): LayerNorm((6,), eps=1e-06, elementwise_affine=True)\n",
       ")"
      ]
     },
     "execution_count": 340,
     "metadata": {},
     "output_type": "execute_result"
    }
   ],
   "source": [
    "decoder"
   ]
  },
  {
   "cell_type": "code",
   "execution_count": 341,
   "metadata": {},
   "outputs": [
    {
     "data": {
      "text/plain": [
       "1716"
      ]
     },
     "execution_count": 341,
     "metadata": {},
     "output_type": "execute_result"
    }
   ],
   "source": [
    " sum(p.numel() for p in decoder.parameters() if p.requires_grad)"
   ]
  },
  {
   "cell_type": "markdown",
   "metadata": {},
   "source": [
    "# Putting it all together...\n",
    "\n",
    "pasting the only used functions/classes and then doing a toy forward pass. "
   ]
  },
  {
   "cell_type": "code",
   "execution_count": 2,
   "metadata": {},
   "outputs": [],
   "source": [
    "import math\n",
    "\n",
    "import torch\n",
    "import torch.nn as nn\n",
    "import torch.nn.functional as F\n",
    "\n",
    "def initialize_weight(x):\n",
    "    nn.init.xavier_uniform_(x.weight)\n",
    "    if x.bias is not None:\n",
    "        nn.init.constant_(x.bias, 0)\n",
    "\n",
    "\n",
    "\n",
    "class FeedForwardNetwork(nn.Module):\n",
    "    def __init__(self, hidden_size, filter_size, dropout_rate,output_size=None):\n",
    "        super(FeedForwardNetwork, self).__init__()\n",
    "\n",
    "        self.layer1 = nn.Linear(hidden_size, filter_size)\n",
    "        self.relu = nn.ReLU()\n",
    "        self.dropout = nn.Dropout(dropout_rate)\n",
    "        if output_size:\n",
    "            self.layer2 = nn.Linear(filter_size, output_size)\n",
    "        else:\n",
    "            self.layer2 = nn.Linear(filter_size, hidden_size)\n",
    "\n",
    "        initialize_weight(self.layer1)\n",
    "        initialize_weight(self.layer2)\n",
    "\n",
    "    def forward(self, x):\n",
    "        x = self.layer1(x)\n",
    "        x = self.relu(x)\n",
    "        x = self.dropout(x)\n",
    "        x = self.layer2(x)\n",
    "        return x\n",
    "\n",
    "\n",
    "class MultiHeadAttention(nn.Module):\n",
    "    def __init__(self, hidden_size, dropout_rate, head_size=4):\n",
    "        super(MultiHeadAttention, self).__init__()\n",
    "\n",
    "        self.head_size = head_size\n",
    "\n",
    "        self.att_size = att_size = hidden_size // head_size\n",
    "        self.scale = att_size ** -0.5\n",
    "\n",
    "        self.linear_q = nn.Linear(hidden_size, head_size * att_size, bias=False)\n",
    "        self.linear_k = nn.Linear(hidden_size, head_size * att_size, bias=False)\n",
    "        self.linear_v = nn.Linear(hidden_size, head_size * att_size, bias=False)\n",
    "        initialize_weight(self.linear_q)\n",
    "        initialize_weight(self.linear_k)\n",
    "        initialize_weight(self.linear_v)\n",
    "\n",
    "        self.att_dropout = nn.Dropout(dropout_rate)\n",
    "\n",
    "        self.output_layer = nn.Linear(head_size * att_size, hidden_size,\n",
    "                                      bias=False)\n",
    "        initialize_weight(self.output_layer)\n",
    "\n",
    "    def forward(self, q, k, v, mask, cache=None):\n",
    "        orig_q_size = q.size()\n",
    "\n",
    "        d_k = self.att_size\n",
    "        d_v = self.att_size\n",
    "        batch_size = q.size(0)\n",
    "\n",
    "        # head_i = Attention(Q(W^Q)_i, K(W^K)_i, V(W^V)_i)\n",
    "        q = self.linear_q(q).view(batch_size, -1, self.head_size, d_k)\n",
    "        if cache is not None and 'encdec_k' in cache:\n",
    "            k, v = cache['encdec_k'], cache['encdec_v']\n",
    "        else:\n",
    "            k = self.linear_k(k).view(batch_size, -1, self.head_size, d_k)\n",
    "            v = self.linear_v(v).view(batch_size, -1, self.head_size, d_v)\n",
    "\n",
    "            if cache is not None:\n",
    "                cache['encdec_k'], cache['encdec_v'] = k, v\n",
    "\n",
    "        q = q.transpose(1, 2)                  # [b, h, q_len, d_k]\n",
    "        v = v.transpose(1, 2)                  # [b, h, v_len, d_v]\n",
    "        k = k.transpose(1, 2).transpose(2, 3)  # [b, h, d_k, k_len]\n",
    "\n",
    "        # Scaled Dot-Product Attention.\n",
    "        # Attention(Q, K, V) = softmax((QK^T)/sqrt(d_k))V\n",
    "        q.mul_(self.scale)\n",
    "        x = torch.matmul(q, k)  # [b, h, q_len, k_len]\n",
    "        #x.masked_fill_(mask.unsqueeze(1), -1e9)\n",
    "        x = torch.softmax(x, dim=3)\n",
    "        x = self.att_dropout(x)\n",
    "        x = x.matmul(v)  # [b, h, q_len, attn]\n",
    "\n",
    "        x = x.transpose(1, 2).contiguous()  # [b, q_len, h, attn]\n",
    "        x = x.view(batch_size, -1, self.head_size * d_v)\n",
    "\n",
    "        x = self.output_layer(x)\n",
    "\n",
    "        assert x.size() == orig_q_size\n",
    "        return x\n",
    "\n",
    "\n",
    "    \n",
    "class DecoderLayer(nn.Module):\n",
    "    def __init__(self, hidden_size, filter_size, dropout_rate=0.1):\n",
    "        super(DecoderLayer, self).__init__()\n",
    "\n",
    "        self.self_attention_norm = nn.LayerNorm(hidden_size, eps=1e-6)\n",
    "        self.self_attention = MultiHeadAttention(hidden_size, dropout_rate)\n",
    "        self.self_attention_dropout = nn.Dropout(dropout_rate)\n",
    "\n",
    "       # self.enc_dec_attention_norm = nn.LayerNorm(hidden_size, eps=1e-6)\n",
    "        #self.enc_dec_attention = MultiHeadAttention(hidden_size, dropout_rate)\n",
    "        #self.enc_dec_attention_dropout = nn.Dropout(dropout_rate)\n",
    "\n",
    "        self.ffn_norm = nn.LayerNorm(hidden_size, eps=1e-6)\n",
    "        self.ffn = FeedForwardNetwork(hidden_size, filter_size, dropout_rate)\n",
    "        self.ffn_dropout = nn.Dropout(dropout_rate)\n",
    "\n",
    "    def forward(self, x, self_mask):\n",
    "        y = self.self_attention_norm(x)\n",
    "        y = self.self_attention(y, y, y, self_mask)\n",
    "        y = self.self_attention_dropout(y)\n",
    "        x = x + y\n",
    "\n",
    "       # if enc_output is not None:\n",
    "       #     y = self.enc_dec_attention_norm(x)\n",
    "        #    y = self.enc_dec_attention(y, enc_output, enc_output, i_mask,\n",
    "                                   #    cache)\n",
    "          #  y = self.enc_dec_attention_dropout(y)\n",
    "        #   x = x + y\n",
    "\n",
    "        y = self.ffn_norm(x)\n",
    "        y = self.ffn(y)\n",
    "        y = self.ffn_dropout(y)\n",
    "        x = x + y\n",
    "        return x\n",
    "\n",
    "\n",
    "\n",
    "class Decoder(nn.Module):\n",
    "    def __init__(self, hidden_size, filter_size, dropout_rate, n_layers):\n",
    "        super(Decoder, self).__init__()\n",
    "\n",
    "        decoders = [DecoderLayer(hidden_size, filter_size, dropout_rate)\n",
    "                    for _ in range(n_layers)]\n",
    "        self.layers = nn.ModuleList(decoders)\n",
    "\n",
    "        self.last_norm = nn.LayerNorm(hidden_size, eps=1e-6)\n",
    "\n",
    "    def forward(self, x, self_mask):\n",
    "        decoder_output = x\n",
    "        for i, dec_layer in enumerate(self.layers):\n",
    "            decoder_output = dec_layer(decoder_output,\n",
    "                                       self_mask)\n",
    "        return self.last_norm(decoder_output)\n",
    "    \n",
    "   \n",
    "\n",
    "\n",
    "\n",
    "class Transformer(nn.Module):\n",
    "    def __init__(self,\n",
    "                 n_layers=6,\n",
    "                 hidden_size=32,\n",
    "                 filter_size=64,\n",
    "                 dropout_rate=0.1,\n",
    "                window_size=32):\n",
    "        super(Transformer, self).__init__()\n",
    "        \n",
    "        self.window_size = window_size\n",
    "        self.hidden_size = hidden_size\n",
    "        self.emb_scale = hidden_size ** 0.5\n",
    "        \n",
    "        \n",
    "\n",
    "        self.price_embedding = nn.Linear(window_size,hidden_size) # this 1 can be scaled to # of cryptos, trends, etc. Need to fix loaders as well for that but interesting opportunity. \n",
    "        \n",
    "        nn.init.normal_(self.price_embedding.weight, mean=0,\n",
    "                        std=hidden_size**-0.5)\n",
    "        \n",
    "        self.decoder = Decoder(hidden_size, filter_size,\n",
    "                               dropout_rate, n_layers)\n",
    "        \n",
    "        self.output_mlp = FeedForwardNetwork(hidden_size,filter_size,dropout_rate,output_size=1) \n",
    "\n",
    "\n",
    "        # For positional encoding\n",
    "        num_timescales = self.hidden_size // 2\n",
    "        max_timescale = 10000.0\n",
    "        min_timescale = 1.0\n",
    "        log_timescale_increment = (\n",
    "            math.log(float(max_timescale) / float(min_timescale)) /\n",
    "            max(num_timescales - 1, 1))\n",
    "        inv_timescales = min_timescale * torch.exp(\n",
    "            torch.arange(num_timescales, dtype=torch.float32) *\n",
    "            -log_timescale_increment)\n",
    "        self.register_buffer('inv_timescales', inv_timescales)\n",
    "        \n",
    "        \n",
    "\n",
    "    def forward(self, x):\n",
    "\n",
    "        self_mask = create_self_mask(self.window_size)\n",
    "        \n",
    "        \n",
    "        x = self.decode(x, self_mask)\n",
    "        \n",
    "        x = self.output_mlp(x[:,-1,:])\n",
    "        return x\n",
    "\n",
    "\n",
    "    def decode(self, x, self_mask):\n",
    "\n",
    "        print(x.shape)\n",
    "      #  x = self.price_embedding(x).unsqueeze(0)\n",
    "      #  print(y.shape)\n",
    "        #x = x[:,0] * torch.eye(self.window_size) # this does not convert to batch size \n",
    "\n",
    "     #   print(x.shape)\n",
    "        x = torch.stack([x[i,:] * torch.eye(x.shape[1]) for i in range(x.shape[0])])\n",
    "        #x = x.unsqueeze(0)\n",
    "        print(x.shape)\n",
    "\n",
    "        x *= self.emb_scale\n",
    "        x += self.get_position_encoding(x)\n",
    "      #  print(x.shape)\n",
    "     #   target_embedded = self.t_emb_dropout(target_embedded)\n",
    "\n",
    "        # decoder\n",
    "        output = self.decoder(x, self_mask)\n",
    "\n",
    "        return output # and take the last token of this.. \n",
    "\n",
    "    def get_position_encoding(self, x):\n",
    "        max_length = x.size()[1]\n",
    "        position = torch.arange(max_length, dtype=torch.float32,\n",
    "                                device=x.device)\n",
    "        scaled_time = position.unsqueeze(1) * self.inv_timescales.unsqueeze(0)\n",
    "        signal = torch.cat([torch.sin(scaled_time), torch.cos(scaled_time)],\n",
    "                           dim=1)\n",
    "        signal = F.pad(signal, (0, 0, 0, self.hidden_size % 2))\n",
    "        signal = signal.view(1, max_length, self.hidden_size)\n",
    "        return signal\n",
    "\n",
    "\n",
    "def create_self_mask(target_len, device=None):\n",
    "    # Prevent leftward information flow in self-attention.\n",
    "    ones = torch.ones(target_len, target_len, dtype=torch.uint8,\n",
    "                      device=device)\n",
    "    t_self_mask = torch.triu(ones, diagonal=1).unsqueeze(0)\n",
    "\n",
    "    return t_self_mask"
   ]
  },
  {
   "cell_type": "markdown",
   "metadata": {},
   "source": [
    "And what this all looks like, for the future model(s). "
   ]
  },
  {
   "cell_type": "code",
   "execution_count": 4,
   "metadata": {},
   "outputs": [],
   "source": [
    "import sys\n",
    "sys.path.append('../src')\n",
    "from dataloaders import create_dataloaders\n",
    "import matplotlib.pyplot as plt\n",
    "%matplotlib inline\n",
    "\n",
    "train_loader, _, _ = create_dataloaders(prior_years=8,crypto='bitcoin',values='usd',batch_size=4,buy_thresh=3,labels_to_load=['pct_change'],window=14)\n",
    "\n",
    "for batch in train_loader:\n",
    "    break"
   ]
  },
  {
   "cell_type": "code",
   "execution_count": 101,
   "metadata": {},
   "outputs": [],
   "source": [
    "model = Transformer(hidden_size=14,window_size=14)"
   ]
  },
  {
   "cell_type": "code",
   "execution_count": 102,
   "metadata": {},
   "outputs": [],
   "source": [
    "x = batch[0]"
   ]
  },
  {
   "cell_type": "code",
   "execution_count": 103,
   "metadata": {},
   "outputs": [
    {
     "data": {
      "text/plain": [
       "torch.Size([4, 14])"
      ]
     },
     "execution_count": 103,
     "metadata": {},
     "output_type": "execute_result"
    }
   ],
   "source": [
    "batch[0].shape"
   ]
  },
  {
   "cell_type": "code",
   "execution_count": 104,
   "metadata": {},
   "outputs": [
    {
     "name": "stdout",
     "output_type": "stream",
     "text": [
      "torch.Size([4, 14])\n",
      "torch.Size([4, 14, 14])\n"
     ]
    }
   ],
   "source": [
    "out = model.forward( batch[0])"
   ]
  },
  {
   "cell_type": "code",
   "execution_count": 106,
   "metadata": {},
   "outputs": [
    {
     "data": {
      "text/plain": [
       "tensor([[0.9707],\n",
       "        [0.5785],\n",
       "        [0.7585],\n",
       "        [1.1213]], grad_fn=<AddmmBackward>)"
      ]
     },
     "execution_count": 106,
     "metadata": {},
     "output_type": "execute_result"
    }
   ],
   "source": [
    "out"
   ]
  },
  {
   "cell_type": "code",
   "execution_count": null,
   "metadata": {},
   "outputs": [],
   "source": []
  },
  {
   "cell_type": "markdown",
   "metadata": {},
   "source": [
    "Pass this output to a little NN, and the rest is history. That'll do. \n",
    "\n",
    "One thought is maybe make the hidden size larger that way days can more effectively occupy separate areas? or do we like the blending"
   ]
  },
  {
   "cell_type": "markdown",
   "metadata": {},
   "source": [
    "nn.Embedding?\n",
    " to use this, I would need all possible integer values this price can take, which is a lot! Instead, we skip the lookup table and transform to a \n",
    "matrix"
   ]
  },
  {
   "cell_type": "code",
   "execution_count": null,
   "metadata": {},
   "outputs": [],
   "source": []
  }
 ],
 "metadata": {
  "kernelspec": {
   "display_name": "Python 3",
   "language": "python",
   "name": "python3"
  },
  "language_info": {
   "codemirror_mode": {
    "name": "ipython",
    "version": 3
   },
   "file_extension": ".py",
   "mimetype": "text/x-python",
   "name": "python",
   "nbconvert_exporter": "python",
   "pygments_lexer": "ipython3",
   "version": "3.8.5"
  }
 },
 "nbformat": 4,
 "nbformat_minor": 4
}
